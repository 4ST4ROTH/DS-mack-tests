{
  "nbformat": 4,
  "nbformat_minor": 0,
  "metadata": {
    "colab": {
      "provenance": []
    },
    "kernelspec": {
      "name": "python3",
      "display_name": "Python 3"
    },
    "language_info": {
      "name": "python"
    }
  },
  "cells": [
    {
      "cell_type": "code",
      "source": [
        "def even_num_list(a:list)->list:\n",
        "  result = [num for num in a if num%2 == 0]\n",
        "  return result\n"
      ],
      "metadata": {
        "id": "c6wSrrbhpmcP"
      },
      "execution_count": 1,
      "outputs": []
    },
    {
      "cell_type": "code",
      "source": [
        "a = [1,3,4,2,5,6]\n",
        "even_num_list(a)"
      ],
      "metadata": {
        "colab": {
          "base_uri": "https://localhost:8080/"
        },
        "id": "aJdD3ugZqrMM",
        "outputId": "e3ad9854-1f7f-4397-f9cb-62f09d5e2fce"
      },
      "execution_count": 2,
      "outputs": [
        {
          "output_type": "execute_result",
          "data": {
            "text/plain": [
              "[4, 2, 6]"
            ]
          },
          "metadata": {},
          "execution_count": 2
        }
      ]
    },
    {
      "cell_type": "code",
      "source": [],
      "metadata": {
        "id": "rlGgivMFqxiZ"
      },
      "execution_count": 2,
      "outputs": []
    }
  ]
}
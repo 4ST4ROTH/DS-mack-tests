{
  "nbformat": 4,
  "nbformat_minor": 0,
  "metadata": {
    "colab": {
      "provenance": [],
      "authorship_tag": "ABX9TyMrXOdcI/kiErBgEKfeJcse",
      "include_colab_link": true
    },
    "kernelspec": {
      "name": "python3",
      "display_name": "Python 3"
    },
    "language_info": {
      "name": "python"
    }
  },
  "cells": [
    {
      "cell_type": "markdown",
      "metadata": {
        "id": "view-in-github",
        "colab_type": "text"
      },
      "source": [
        "<a href=\"https://colab.research.google.com/github/4ST4ROTH/DS-mack-tests/blob/main/MockTest_1(Q20).ipynb\" target=\"_parent\"><img src=\"https://colab.research.google.com/assets/colab-badge.svg\" alt=\"Open In Colab\"/></a>"
      ]
    },
    {
      "cell_type": "code",
      "execution_count": 1,
      "metadata": {
        "id": "PpU_n361xp-a"
      },
      "outputs": [],
      "source": [
        "from scipy import stats\n"
      ]
    },
    {
      "cell_type": "code",
      "source": [
        "def perform_hypothesis_test(a:list , b:list)->float:\n",
        "  t_statistic , p_value = stats.ttest_ind(a,b)\n",
        "  return p_value"
      ],
      "metadata": {
        "id": "4Gg68VPtxyUV"
      },
      "execution_count": 2,
      "outputs": []
    },
    {
      "cell_type": "code",
      "source": [
        "a = [1,2,3,4,5,6]\n",
        "b = [7,8,9,10,11,12,13,14,15]\n",
        "perform_hypothesis_test(a,b)"
      ],
      "metadata": {
        "colab": {
          "base_uri": "https://localhost:8080/"
        },
        "id": "u-rTDal_yPCP",
        "outputId": "29cd0fe7-7fc8-4dbf-9648-3d47fe2ffee2"
      },
      "execution_count": 3,
      "outputs": [
        {
          "output_type": "execute_result",
          "data": {
            "text/plain": [
              "5.8938515993653326e-05"
            ]
          },
          "metadata": {},
          "execution_count": 3
        }
      ]
    },
    {
      "cell_type": "code",
      "source": [],
      "metadata": {
        "id": "WITuu0cCyYqc"
      },
      "execution_count": null,
      "outputs": []
    }
  ]
}
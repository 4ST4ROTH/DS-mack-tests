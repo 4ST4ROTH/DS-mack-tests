{
  "nbformat": 4,
  "nbformat_minor": 0,
  "metadata": {
    "colab": {
      "provenance": [],
      "authorship_tag": "ABX9TyPzxdb+Zo9CALDq/QABuXgX",
      "include_colab_link": true
    },
    "kernelspec": {
      "name": "python3",
      "display_name": "Python 3"
    },
    "language_info": {
      "name": "python"
    }
  },
  "cells": [
    {
      "cell_type": "markdown",
      "metadata": {
        "id": "view-in-github",
        "colab_type": "text"
      },
      "source": [
        "<a href=\"https://colab.research.google.com/github/4ST4ROTH/DS-mack-tests/blob/main/MockTest_1(Q19).ipynb\" target=\"_parent\"><img src=\"https://colab.research.google.com/assets/colab-badge.svg\" alt=\"Open In Colab\"/></a>"
      ]
    },
    {
      "cell_type": "code",
      "execution_count": 1,
      "metadata": {
        "id": "UrhALRXNvHok"
      },
      "outputs": [],
      "source": [
        "def calculate_mean(a:list)->list:\n",
        "  total = sum(a)\n",
        "  total_num = len(a)\n",
        "  mean = total / total_num\n",
        "  return mean"
      ]
    },
    {
      "cell_type": "code",
      "source": [
        "a = [2,3242,453,46,445,575,674,35,32,414,23534,645,434]\n",
        "calculate_mean(a)"
      ],
      "metadata": {
        "colab": {
          "base_uri": "https://localhost:8080/"
        },
        "id": "KzwEc9yvvyTo",
        "outputId": "d765ff27-9718-45d8-e3c6-1596107aa53e"
      },
      "execution_count": 2,
      "outputs": [
        {
          "output_type": "execute_result",
          "data": {
            "text/plain": [
              "2348.5384615384614"
            ]
          },
          "metadata": {},
          "execution_count": 2
        }
      ]
    },
    {
      "cell_type": "code",
      "source": [],
      "metadata": {
        "id": "-8XtvpEOwj0w"
      },
      "execution_count": 2,
      "outputs": []
    }
  ]
}